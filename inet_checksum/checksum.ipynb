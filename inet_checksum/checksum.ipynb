{
 "cells": [
  {
   "cell_type": "markdown",
   "id": "3b02104b",
   "metadata": {},
   "source": [
    "# Internet checksum\n",
    "\n",
    "Este notebook explica cómo se calcula el checksum que utilizan las cabeceras de IPv4, ICMPv4, IGMP, UDP o TCP. Se le conoce habitualmente como «checksum de Internet» o *Internet checksum*.\n",
    "\n",
    "El checksum permite detectar cambios (incluso de un solo bit) en la transmisión del mensaje. Consiste esencialmente en interpretar el mensaje como una secuencia de enteros de 16 bits con ajustes para que el resultado también sea un entero de 16 bits.\n",
    "\n",
    "## Un ejemplo\n",
    "\n",
    "Como ejemplo, vamos a tomar la cabecera de un paquete IP que encapsula un mensaje ICMP. Inicialmente el campo checksum debe contener un 0."
   ]
  },
  {
   "cell_type": "code",
   "execution_count": 6,
   "id": "925b58b7",
   "metadata": {},
   "outputs": [],
   "source": [
    "ip_header = [\n",
    "    0x45, 0x00,             # Versión, IHL, Tipo de Servicio\n",
    "    0x00, 0x54,             # Longitud Total (84 bytes)\n",
    "    0x00, 0x00,             # Identificación\n",
    "    0x40, 0x00,             # Flags, Offset de Fragmento\n",
    "    0x40, 0x01,             # TTL, Protocolo (ICMP)\n",
    "    0x00, 0x00,             # CHECKSUM (0x0000 por ahora)\n",
    "    0xC0, 0xA8, 0x00, 0x01, # IP origen (192.168.0.1)\n",
    "    0xC0, 0xA8, 0x00, 0xC7, # IP destino (192.168.0.199)\n",
    "]"
   ]
  },
  {
   "cell_type": "markdown",
   "id": "60aa9e82",
   "metadata": {},
   "source": [
    "Se divide el mensaje (la cabecera IP en este caso) en palabras de 16 bits y se suman haciendo plegado (folding) del acarreo. Es decir, si la suma excede `0xFFFF` el desbordamiento se suma al resultado. Por ejemplo, al sumar 0xFFFE + 4 = 0x10002, se \"pliega\" como 0x0002 + 1 = 0x0003.\n",
    "\n",
    "Aplicado a la cabecera anterior:"
   ]
  },
  {
   "cell_type": "code",
   "execution_count": 7,
   "id": "48361cd2",
   "metadata": {},
   "outputs": [],
   "source": [
    "words = [\n",
    "    0x4500,\n",
    "    0x0054,\n",
    "    0x0000,\n",
    "    0x4000,\n",
    "    0x4001,\n",
    "    0x0000,\n",
    "    0xC0A8,\n",
    "    0x0001,\n",
    "    0xC0A8,\n",
    "    0x00C7\n",
    "]"
   ]
  },
  {
   "cell_type": "markdown",
   "id": "a24223e0",
   "metadata": {},
   "source": [
    "| Op 1      |   Op 2      | Suma      |\n",
    "|-----------|------------:|----------:|\n",
    "| 0x4500    | + 0x0054    |  0x4554   |\n",
    "| 0x4554    | + 0x0000    |  0x4554   |\n",
    "| 0x4554    | + 0x4000    |  0x8554   |\n",
    "| 0x8554    | + 0x4001    |  0xC555   |\n",
    "| 0xC555    | + 0x0000    |  0xC555   |\n",
    "| 0xC555    | + 0xC0A8    | 0x185FD   |\n",
    "| folding   | +   0x01    |  0x85FE   |\n",
    "| 0x85FE    | + 0x0001    |  0x85FF   |\n",
    "| 0x85FF    | + 0xC0A8    | 0x146A7   |\n",
    "| folding   | +   0x01    |  0x46A8   |\n",
    "| 0x46A8    | + 0x00C7    |  0x476f   |"
   ]
  },
  {
   "cell_type": "markdown",
   "id": "d907c8c0",
   "metadata": {},
   "source": [
    "Finalmente se calcula el complemento a 1 y tenemos el valor del checksum:"
   ]
  },
  {
   "cell_type": "code",
   "execution_count": 8,
   "id": "321a5ff9",
   "metadata": {},
   "outputs": [
    {
     "data": {
      "text/plain": [
       "'0xb890'"
      ]
     },
     "execution_count": 8,
     "metadata": {},
     "output_type": "execute_result"
    }
   ],
   "source": [
    "hex(~0x476f & 0xFFFF)"
   ]
  },
  {
   "cell_type": "markdown",
   "id": "3a05b95b",
   "metadata": {},
   "source": [
    "Este valor es big endian, es decir, es el orden con el que debe ser colocado en el campo checksum del mensaje. Al recibir el mensaje para verificar el checksum, se repite el calculo (que incluye el checksum calculado) y el resultado debe ser `0` si el mensaje no ha sufrido cambios."
   ]
  },
  {
   "cell_type": "markdown",
   "id": "1d645c30",
   "metadata": {},
   "source": [
    "## El algoritmo\n",
    "\n",
    "La RFC 1071 proporciona una implementación en C del algoritmo que podemos usar:\n",
    "\n",
    "```c\n",
    "/* Compute Internet Checksum for \"count\" bytes\n",
    "*         beginning at location \"addr\".\n",
    "*/\n",
    "register long sum = 0;\n",
    "\n",
    "while( count > 1 )  {\n",
    "    /*  This is the inner loop */\n",
    "        sum += * (unsigned short) addr++;\n",
    "        count -= 2;\n",
    "}\n",
    "\n",
    "/*  Add left-over byte, if any */\n",
    "if( count > 0)\n",
    "        sum += * (unsigned char *) addr;\n",
    "\n",
    "/*  Fold 32-bit sum to 16 bits */\n",
    "while (sum>>16)\n",
    "    sum = (sum & 0xffff) + (sum >> 16);\n",
    "\n",
    "checksum = ~sum;\n",
    "```"
   ]
  },
  {
   "cell_type": "markdown",
   "id": "662c0152",
   "metadata": {},
   "source": [
    "Analizando este código puedes ver que implica varios pasos, que corresponden al algoritmo indicado, aunque con alguna diferencia (obviamente compatible).\n",
    "\n",
    "- Suma palabras de 16 bits tomando 2 bytes cada vez gracias al molde de short.\n",
    "- Si la cantidad de datos (count) es impar suma el último byte.\n",
    "- En lugar de hacer folding en cada suma, lo hace al acabar. Y lo hace con un bucle hasta que no quede exceso por encima de los 16 bits\n",
    "- Por último calcula el complemento a 1\n",
    "\n",
    "Pero cuidado, ese programa no es portable! Es para una arquitectura little endian y requiere intercambiar los bytes al terminar (p.ej. con `htons`). Lo sabemos porque para una secuencia de tamaño impar suma ese último byte como LSB.\n",
    "\n",
    "Teniendo todo eso en cuenta, podemos proponer una función equivalente en Python, si bien esta versión es portable y retorna el resultado como big endian en cualquier caso:"
   ]
  },
  {
   "cell_type": "code",
   "execution_count": 9,
   "id": "ee7b4fe3",
   "metadata": {},
   "outputs": [],
   "source": [
    "def inet_checksum(data: bytes) -> int:\n",
    "    total = 0\n",
    "\n",
    "    for i in range(0, len(data) - 1, 2):\n",
    "        total += (data[i] << 8) + data[i+1]\n",
    "\n",
    "    if len(data) % 2 == 1:\n",
    "        total += data[-1] << 8\n",
    "\n",
    "    while (total >> 16):\n",
    "        total = (total & 0xffff) + (total >> 16)\n",
    "\n",
    "    return ~total & 0xffff"
   ]
  },
  {
   "cell_type": "markdown",
   "id": "b7295fd4",
   "metadata": {},
   "source": [
    "Aplicada a la cabecera del principio:"
   ]
  },
  {
   "cell_type": "code",
   "execution_count": 10,
   "id": "815ae99c",
   "metadata": {},
   "outputs": [
    {
     "data": {
      "text/plain": [
       "'0xb890'"
      ]
     },
     "execution_count": 10,
     "metadata": {},
     "output_type": "execute_result"
    }
   ],
   "source": [
    "hex(inet_checksum(bytes(ip_header)))"
   ]
  }
 ],
 "metadata": {
  "kernelspec": {
   "display_name": ".venv",
   "language": "python",
   "name": "python3"
  },
  "language_info": {
   "codemirror_mode": {
    "name": "ipython",
    "version": 3
   },
   "file_extension": ".py",
   "mimetype": "text/x-python",
   "name": "python",
   "nbconvert_exporter": "python",
   "pygments_lexer": "ipython3",
   "version": "3.11.2"
  }
 },
 "nbformat": 4,
 "nbformat_minor": 5
}
