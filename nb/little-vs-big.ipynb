{
 "cells": [
  {
   "cell_type": "markdown",
   "id": "1848be54",
   "metadata": {},
   "source": [
    "Correspondencia entre little-endian y big-endian cuando se añade un 0 final en el caso de una secuencia de tamaño impar."
   ]
  },
  {
   "cell_type": "code",
   "execution_count": 1,
   "id": "fd9620bd",
   "metadata": {},
   "outputs": [],
   "source": [
    "byte_swap = lambda chk: ((chk >> 8) & 0xff) | chk << 8"
   ]
  },
  {
   "cell_type": "markdown",
   "id": "754b6dc8",
   "metadata": {},
   "source": [
    "## little endian"
   ]
  },
  {
   "cell_type": "code",
   "execution_count": 2,
   "id": "1fb3ccac",
   "metadata": {},
   "outputs": [
    {
     "data": {
      "text/plain": [
       "26180"
      ]
     },
     "execution_count": 2,
     "metadata": {},
     "output_type": "execute_result"
    }
   ],
   "source": [
    "import array\n",
    "sum(array.array('H', bytes.fromhex('11223344')))"
   ]
  },
  {
   "cell_type": "code",
   "execution_count": 3,
   "id": "53f29b27",
   "metadata": {},
   "outputs": [
    {
     "data": {
      "text/plain": [
       "26180"
      ]
     },
     "execution_count": 3,
     "metadata": {},
     "output_type": "execute_result"
    }
   ],
   "source": [
    "0x2211 + 0x4433"
   ]
  },
  {
   "cell_type": "code",
   "execution_count": 4,
   "id": "70bfb714",
   "metadata": {},
   "outputs": [
    {
     "data": {
      "text/plain": [
       "26265"
      ]
     },
     "execution_count": 4,
     "metadata": {},
     "output_type": "execute_result"
    }
   ],
   "source": [
    "sum(array.array('H', bytes.fromhex('112233445500')))"
   ]
  },
  {
   "cell_type": "code",
   "execution_count": 5,
   "id": "b549471f",
   "metadata": {},
   "outputs": [
    {
     "data": {
      "text/plain": [
       "26265"
      ]
     },
     "execution_count": 5,
     "metadata": {},
     "output_type": "execute_result"
    }
   ],
   "source": [
    "0x2211 + 0x4433 + 0x0055"
   ]
  },
  {
   "cell_type": "markdown",
   "id": "90e9b184",
   "metadata": {},
   "source": [
    "## big endian"
   ]
  },
  {
   "cell_type": "code",
   "execution_count": 6,
   "id": "c57ea1a8",
   "metadata": {},
   "outputs": [
    {
     "data": {
      "text/plain": [
       "17510"
      ]
     },
     "execution_count": 6,
     "metadata": {},
     "output_type": "execute_result"
    }
   ],
   "source": [
    "r = 0x1122 + 0x3344\n",
    "r"
   ]
  },
  {
   "cell_type": "code",
   "execution_count": 7,
   "id": "d0f2fadf",
   "metadata": {},
   "outputs": [
    {
     "data": {
      "text/plain": [
       "26180"
      ]
     },
     "execution_count": 7,
     "metadata": {},
     "output_type": "execute_result"
    }
   ],
   "source": [
    "byte_swap(r) & 0xffff"
   ]
  },
  {
   "cell_type": "code",
   "execution_count": 8,
   "id": "ebd64b18",
   "metadata": {},
   "outputs": [
    {
     "data": {
      "text/plain": [
       "39270"
      ]
     },
     "execution_count": 8,
     "metadata": {},
     "output_type": "execute_result"
    }
   ],
   "source": [
    "r = 0x1122 + 0x3344 + 0x5500\n",
    "r"
   ]
  },
  {
   "cell_type": "code",
   "execution_count": 9,
   "id": "8a757cc9",
   "metadata": {},
   "outputs": [
    {
     "data": {
      "text/plain": [
       "26265"
      ]
     },
     "execution_count": 9,
     "metadata": {},
     "output_type": "execute_result"
    }
   ],
   "source": [
    "byte_swap(r) & 0xffff"
   ]
  }
 ],
 "metadata": {
  "kernelspec": {
   "display_name": ".venv",
   "language": "python",
   "name": "python3"
  },
  "language_info": {
   "codemirror_mode": {
    "name": "ipython",
    "version": 3
   },
   "file_extension": ".py",
   "mimetype": "text/x-python",
   "name": "python",
   "nbconvert_exporter": "python",
   "pygments_lexer": "ipython3",
   "version": "3.11.2"
  }
 },
 "nbformat": 4,
 "nbformat_minor": 5
}
