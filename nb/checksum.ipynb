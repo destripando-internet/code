{
 "cells": [
  {
   "cell_type": "markdown",
   "id": "3b02104b",
   "metadata": {},
   "source": [
    "# Internet checksum\n",
    "\n",
    "Este notebook explica cómo se calcula el checksum que utilizan las cabeceras de IPv4, ICMPv4, IGMP, UDP o TCP. Se le conoce habitualmente como «checksum de Internet» o *Internet checksum*.\n",
    "\n",
    "El checksum permite detectar cambios (incluso de un solo bit) en la transmisión del mensaje. Consiste en una suma de 16 en complemento a uno.\n",
    "\n",
    "## ¿Cómo funciona?\n",
    "\n",
    "Partimos de una cabecera IP que encapsula un mensaje ICMP. Inicialmente el campo checksum debe contener un 0."
   ]
  },
  {
   "cell_type": "code",
   "execution_count": null,
   "id": "925b58b7",
   "metadata": {},
   "outputs": [],
   "source": [
    "ip_header = [\n",
    "    0x45, 0x00,             # Version, IHL, Type of Service\n",
    "    0x00, 0x54,             # Total Length (84 bytes)\n",
    "    0x00, 0x00,             # Identification\n",
    "    0x40, 0x00,             # Flags, Fragment Offset\n",
    "    0x40, 0x01,             # TTL, Protocol (ICMP)\n",
    "    0x00, 0x00,             # Header checksum\n",
    "    0xC0, 0xA8, 0x00, 0x01, # Source IP (192.168.0.1)\n",
    "    0xC0, 0xA8, 0x00, 0xC7  # Destination IP (192.168.0.199)\n",
    "]"
   ]
  },
  {
   "cell_type": "markdown",
   "id": "60aa9e82",
   "metadata": {},
   "source": [
    "Se divide el mensaje (la cabecera IP en este caso) en palabras de 16 bits y se suman tratando el  desbordamiento con la técnica de complemento. Es decir, si la suma supera 0xFFFF el desbordamiento se suma al resultado. Por ejemplo, si se suma 0xFFFE + 4 = 0x10002, se convierte en 0x0002 + 1 = 0x0003.\n",
    "\n",
    "Aplicado a la cabecera anterior:"
   ]
  },
  {
   "cell_type": "code",
   "execution_count": null,
   "id": "48361cd2",
   "metadata": {},
   "outputs": [],
   "source": [
    "words = [\n",
    "    0x4500,\n",
    "    0x0054,\n",
    "    0x0000,\n",
    "    0x4000,\n",
    "    0x4001,\n",
    "    0x0000,\n",
    "    0xC0A8,\n",
    "    0x0001,\n",
    "    0xC0A8,\n",
    "    0x00C7\n",
    "]"
   ]
  },
  {
   "cell_type": "code",
   "execution_count": null,
   "id": "a24223e0",
   "metadata": {},
   "outputs": [],
   "source": [
    "0x4500 + 0x0054 = 0x4554\n",
    "0x4554 + 0x0000 = 0x4554\n",
    "0x4554 + 0x4000 = 0x8554\n",
    "0x8554 + 0x4001 = 0xC555\n",
    "0xC555 + 0x0000 = 0xC555\n",
    "0xC555 + 0xC0A8 = 0x185FD\n",
    "0x85FD + 0x1 = 0x85FE\n",
    "0x85FE + 0x0001 = 0x85FF\n",
    "0x85FF + 0xC0A8 = 0x146A7\n",
    "0x46A7 + 0x1 = 0x46A8\n",
    "0x46A8 + 0x00C7 = 0x4770"
   ]
  },
  {
   "cell_type": "markdown",
   "id": "d907c8c0",
   "metadata": {},
   "source": [
    "Se calcula el complemento a 1:"
   ]
  },
  {
   "cell_type": "code",
   "execution_count": 3,
   "id": "321a5ff9",
   "metadata": {},
   "outputs": [
    {
     "data": {
      "text/plain": [
       "'0xb88f'"
      ]
     },
     "execution_count": 3,
     "metadata": {},
     "output_type": "execute_result"
    }
   ],
   "source": [
    "hex(~0x4770 & 0xFFFF)"
   ]
  },
  {
   "cell_type": "markdown",
   "id": "3a05b95b",
   "metadata": {},
   "source": [
    "Este es el valor que se debe colocar en el campo checksum del mensaje."
   ]
  },
  {
   "cell_type": "markdown",
   "id": "7d9e1452",
   "metadata": {},
   "source": [
    "Al recibir el mensaje para verificar el checksum, se repite el calculo (incluyendo el checksum) y el resultado debe ser `0xFFFF`."
   ]
  }
 ],
 "metadata": {
  "kernelspec": {
   "display_name": ".venv",
   "language": "python",
   "name": "python3"
  },
  "language_info": {
   "codemirror_mode": {
    "name": "ipython",
    "version": 3
   },
   "file_extension": ".py",
   "mimetype": "text/x-python",
   "name": "python",
   "nbconvert_exporter": "python",
   "pygments_lexer": "ipython3",
   "version": "3.13.5"
  }
 },
 "nbformat": 4,
 "nbformat_minor": 5
}
