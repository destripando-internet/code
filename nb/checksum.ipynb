{
 "cells": [
  {
   "cell_type": "markdown",
   "id": "3b02104b",
   "metadata": {},
   "source": [
    "# Internet checksum\n",
    "\n",
    "Este notebook explica cómo se calcula el checksum que utilizan las cabeceras de IPv4, ICMPv4, IGMP, UDP o TCP. Se le conoce habitualmente como «checksum de Internet» o *Internet checksum*.\n",
    "\n",
    "El checksum permite detectar cambios (incluso de un solo bit) en la transmisión del mensaje. Consiste en una suma de 16 en complemento a uno.\n",
    "\n",
    "## ¿Cómo funciona?\n",
    "\n",
    "1. Se divide el mensaje (la cabecera en el caso de IP) en palabras de 16 bits.\n",
    "1. Se suman todas las palabras como enteros de 16 bits (con acarreo).\n",
    "1. Se toma el complemento a uno del resultado: `~suma & 0xFFFF`, se coloca en el campo de la cabecera y se envía el mensaje.\n",
    "1. Al recibir el mensaje, se repite la suma (incluyendo el checksum) y el resultado debe ser `0xFFFF`.\n"
   ]
  }
 ],
 "metadata": {
  "language_info": {
   "name": "python"
  }
 },
 "nbformat": 4,
 "nbformat_minor": 5
}
