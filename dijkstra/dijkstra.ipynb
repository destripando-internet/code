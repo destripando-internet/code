{
 "cells": [
  {
   "cell_type": "markdown",
   "id": "fb70e83a",
   "metadata": {},
   "source": [
    "# Calculo de la ruta más corta con Dijkstra"
   ]
  },
  {
   "cell_type": "code",
   "execution_count": 1,
   "id": "6c07a984",
   "metadata": {},
   "outputs": [],
   "source": [
    "import pandas as pd\n",
    "from dijkstra import Network, dijkstra"
   ]
  },
  {
   "cell_type": "markdown",
   "id": "4b548a8a",
   "metadata": {},
   "source": [
    "<img src=\"network.png\" width=\"400\">"
   ]
  },
  {
   "cell_type": "markdown",
   "id": "17b8a54d",
   "metadata": {},
   "source": [
    "Podemos expresar el grafo como la lista de vecinos de cada nodo (con su coste asociado). Fíjate que se incluyen ambos sentidos de cada arista. Por ejemplo, dice que se puede ir de A a B, y también de B a A."
   ]
  },
  {
   "cell_type": "code",
   "execution_count": 2,
   "id": "50cfae8c",
   "metadata": {},
   "outputs": [],
   "source": [
    "graph = {\n",
    "    'A': {'B': 2, 'G': 6},\n",
    "    'B': {'A': 2, 'E': 2, 'C': 7},\n",
    "    'C': {'B': 7, 'F': 3, 'D': 3},\n",
    "    'D': {'C': 3, 'H': 2},\n",
    "    'E': {'B': 2, 'G': 1, 'F': 2},\n",
    "    'F': {'E': 2, 'C': 3, 'H': 2},\n",
    "    'G': {'A': 6, 'E': 1, 'H': 4},\n",
    "    'H': {'G': 4, 'F': 2, 'D': 2},\n",
    "}"
   ]
  },
  {
   "cell_type": "markdown",
   "id": "2e01f621",
   "metadata": {},
   "source": [
    "## Dijkstra"
   ]
  },
  {
   "cell_type": "markdown",
   "id": "5181db9a",
   "metadata": {},
   "source": [
    "La función dijkstra() que estamos usando acepta el grafo, el nodo origen y destino (que es opcional). Calcula el camino óptimo y devuelve:\n",
    "- El coste acumulado a cada nodo en la ruta.\n",
    "- El nodo previo a cada nodo a lo largo de la ruta.\n",
    "- Los nodos evaluados (visitados).\n",
    "\n",
    "Si no se indica el destino, evalúa todo el grafo y calcula las rutas a todos los nodos, es decir, el árbol de rutas más cortas o SPT (shortest-path tree). \n"
   ]
  },
  {
   "cell_type": "code",
   "execution_count": 3,
   "id": "9886be4c",
   "metadata": {},
   "outputs": [
    {
     "data": {
      "text/plain": [
       "{'A': 0, 'B': 2, 'C': 9, 'D': inf, 'E': 4, 'F': 6, 'G': 5, 'H': 8}"
      ]
     },
     "execution_count": 3,
     "metadata": {},
     "output_type": "execute_result"
    }
   ],
   "source": [
    "costs, previous_nodes, visited = dijkstra(graph, source='A', destination='H')\n",
    "costs"
   ]
  },
  {
   "cell_type": "code",
   "execution_count": 4,
   "id": "57c8ffca",
   "metadata": {},
   "outputs": [
    {
     "data": {
      "text/plain": [
       "{'A': None,\n",
       " 'B': 'A',\n",
       " 'C': 'B',\n",
       " 'D': None,\n",
       " 'E': 'B',\n",
       " 'F': 'E',\n",
       " 'G': 'E',\n",
       " 'H': 'F'}"
      ]
     },
     "execution_count": 4,
     "metadata": {},
     "output_type": "execute_result"
    }
   ],
   "source": [
    "previous_nodes"
   ]
  },
  {
   "cell_type": "code",
   "execution_count": 5,
   "id": "02f1ea52",
   "metadata": {},
   "outputs": [
    {
     "data": {
      "text/plain": [
       "['A', 'B', 'E', 'G', 'F', 'H']"
      ]
     },
     "execution_count": 5,
     "metadata": {},
     "output_type": "execute_result"
    }
   ],
   "source": [
    "visited"
   ]
  },
  {
   "cell_type": "markdown",
   "id": "0342a95b",
   "metadata": {},
   "source": [
    "## Red"
   ]
  },
  {
   "cell_type": "code",
   "execution_count": 6,
   "id": "7119633c",
   "metadata": {},
   "outputs": [
    {
     "data": {
      "text/plain": [
       "['A', 'B', 'E', 'F', 'H']"
      ]
     },
     "execution_count": 6,
     "metadata": {},
     "output_type": "execute_result"
    }
   ],
   "source": [
    "net = Network(graph)\n",
    "net.get_path('A', 'H')"
   ]
  },
  {
   "cell_type": "code",
   "execution_count": 7,
   "id": "256a9362",
   "metadata": {},
   "outputs": [
    {
     "data": {
      "text/plain": [
       "{'A': ['A'],\n",
       " 'B': ['A', 'B'],\n",
       " 'C': ['A', 'B', 'C'],\n",
       " 'D': ['A', 'B', 'E', 'F', 'H', 'D'],\n",
       " 'E': ['A', 'B', 'E'],\n",
       " 'F': ['A', 'B', 'E', 'F'],\n",
       " 'G': ['A', 'B', 'E', 'G'],\n",
       " 'H': ['A', 'B', 'E', 'F', 'H']}"
      ]
     },
     "execution_count": 7,
     "metadata": {},
     "output_type": "execute_result"
    }
   ],
   "source": [
    "net.get_spt('A')"
   ]
  },
  {
   "cell_type": "markdown",
   "id": "ee12847c",
   "metadata": {},
   "source": [
    "## Tabla de rutas"
   ]
  },
  {
   "cell_type": "code",
   "execution_count": 8,
   "id": "f423f181",
   "metadata": {},
   "outputs": [],
   "source": [
    "def pretty_table(net, node):\n",
    "    df = pd.DataFrame({\n",
    "        'Destination': [],\n",
    "        'Next Hop': []\n",
    "    })\n",
    "    for dest, next_hop in net.routing_table(node).items():\n",
    "        df.loc[len(df)] = [dest, next_hop]\n",
    "\n",
    "    return df"
   ]
  },
  {
   "cell_type": "code",
   "execution_count": 9,
   "id": "d8408035",
   "metadata": {},
   "outputs": [
    {
     "data": {
      "text/html": [
       "<div>\n",
       "<style scoped>\n",
       "    .dataframe tbody tr th:only-of-type {\n",
       "        vertical-align: middle;\n",
       "    }\n",
       "\n",
       "    .dataframe tbody tr th {\n",
       "        vertical-align: top;\n",
       "    }\n",
       "\n",
       "    .dataframe thead th {\n",
       "        text-align: right;\n",
       "    }\n",
       "</style>\n",
       "<table border=\"1\" class=\"dataframe\">\n",
       "  <thead>\n",
       "    <tr style=\"text-align: right;\">\n",
       "      <th></th>\n",
       "      <th>Destination</th>\n",
       "      <th>Next Hop</th>\n",
       "    </tr>\n",
       "  </thead>\n",
       "  <tbody>\n",
       "    <tr>\n",
       "      <th>0</th>\n",
       "      <td>A</td>\n",
       "      <td>-</td>\n",
       "    </tr>\n",
       "    <tr>\n",
       "      <th>1</th>\n",
       "      <td>B</td>\n",
       "      <td>B</td>\n",
       "    </tr>\n",
       "    <tr>\n",
       "      <th>2</th>\n",
       "      <td>C</td>\n",
       "      <td>B</td>\n",
       "    </tr>\n",
       "    <tr>\n",
       "      <th>3</th>\n",
       "      <td>D</td>\n",
       "      <td>B</td>\n",
       "    </tr>\n",
       "    <tr>\n",
       "      <th>4</th>\n",
       "      <td>E</td>\n",
       "      <td>B</td>\n",
       "    </tr>\n",
       "    <tr>\n",
       "      <th>5</th>\n",
       "      <td>F</td>\n",
       "      <td>B</td>\n",
       "    </tr>\n",
       "    <tr>\n",
       "      <th>6</th>\n",
       "      <td>G</td>\n",
       "      <td>B</td>\n",
       "    </tr>\n",
       "    <tr>\n",
       "      <th>7</th>\n",
       "      <td>H</td>\n",
       "      <td>B</td>\n",
       "    </tr>\n",
       "  </tbody>\n",
       "</table>\n",
       "</div>"
      ],
      "text/plain": [
       "  Destination Next Hop\n",
       "0           A        -\n",
       "1           B        B\n",
       "2           C        B\n",
       "3           D        B\n",
       "4           E        B\n",
       "5           F        B\n",
       "6           G        B\n",
       "7           H        B"
      ]
     },
     "execution_count": 9,
     "metadata": {},
     "output_type": "execute_result"
    }
   ],
   "source": [
    "pretty_table(net, 'A')"
   ]
  },
  {
   "cell_type": "code",
   "execution_count": 10,
   "id": "12929bce",
   "metadata": {},
   "outputs": [
    {
     "data": {
      "text/html": [
       "<div>\n",
       "<style scoped>\n",
       "    .dataframe tbody tr th:only-of-type {\n",
       "        vertical-align: middle;\n",
       "    }\n",
       "\n",
       "    .dataframe tbody tr th {\n",
       "        vertical-align: top;\n",
       "    }\n",
       "\n",
       "    .dataframe thead th {\n",
       "        text-align: right;\n",
       "    }\n",
       "</style>\n",
       "<table border=\"1\" class=\"dataframe\">\n",
       "  <thead>\n",
       "    <tr style=\"text-align: right;\">\n",
       "      <th></th>\n",
       "      <th>Destination</th>\n",
       "      <th>Next Hop</th>\n",
       "    </tr>\n",
       "  </thead>\n",
       "  <tbody>\n",
       "    <tr>\n",
       "      <th>0</th>\n",
       "      <td>A</td>\n",
       "      <td>E</td>\n",
       "    </tr>\n",
       "    <tr>\n",
       "      <th>1</th>\n",
       "      <td>B</td>\n",
       "      <td>E</td>\n",
       "    </tr>\n",
       "    <tr>\n",
       "      <th>2</th>\n",
       "      <td>C</td>\n",
       "      <td>C</td>\n",
       "    </tr>\n",
       "    <tr>\n",
       "      <th>3</th>\n",
       "      <td>D</td>\n",
       "      <td>H</td>\n",
       "    </tr>\n",
       "    <tr>\n",
       "      <th>4</th>\n",
       "      <td>E</td>\n",
       "      <td>E</td>\n",
       "    </tr>\n",
       "    <tr>\n",
       "      <th>5</th>\n",
       "      <td>F</td>\n",
       "      <td>-</td>\n",
       "    </tr>\n",
       "    <tr>\n",
       "      <th>6</th>\n",
       "      <td>G</td>\n",
       "      <td>E</td>\n",
       "    </tr>\n",
       "    <tr>\n",
       "      <th>7</th>\n",
       "      <td>H</td>\n",
       "      <td>H</td>\n",
       "    </tr>\n",
       "  </tbody>\n",
       "</table>\n",
       "</div>"
      ],
      "text/plain": [
       "  Destination Next Hop\n",
       "0           A        E\n",
       "1           B        E\n",
       "2           C        C\n",
       "3           D        H\n",
       "4           E        E\n",
       "5           F        -\n",
       "6           G        E\n",
       "7           H        H"
      ]
     },
     "execution_count": 10,
     "metadata": {},
     "output_type": "execute_result"
    }
   ],
   "source": [
    "pretty_table(net, 'F')"
   ]
  }
 ],
 "metadata": {
  "kernelspec": {
   "display_name": ".venv",
   "language": "python",
   "name": "python3"
  },
  "language_info": {
   "codemirror_mode": {
    "name": "ipython",
    "version": 3
   },
   "file_extension": ".py",
   "mimetype": "text/x-python",
   "name": "python",
   "nbconvert_exporter": "python",
   "pygments_lexer": "ipython3",
   "version": "3.13.5"
  }
 },
 "nbformat": 4,
 "nbformat_minor": 5
}
